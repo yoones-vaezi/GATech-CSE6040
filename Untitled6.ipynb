{
  "nbformat": 4,
  "nbformat_minor": 0,
  "metadata": {
    "colab": {
      "provenance": [],
      "gpuType": "L4",
      "machine_shape": "hm",
      "authorship_tag": "ABX9TyPrRi6AwvP7v9Hqq3OCx6Qt",
      "include_colab_link": true
    },
    "kernelspec": {
      "name": "python3",
      "display_name": "Python 3"
    },
    "language_info": {
      "name": "python"
    },
    "accelerator": "GPU",
    "widgets": {
      "application/vnd.jupyter.widget-state+json": {
        "633ba0ca903a4206b79dc498c05f3bdf": {
          "model_module": "@jupyter-widgets/controls",
          "model_name": "HBoxModel",
          "model_module_version": "1.5.0",
          "state": {
            "_dom_classes": [],
            "_model_module": "@jupyter-widgets/controls",
            "_model_module_version": "1.5.0",
            "_model_name": "HBoxModel",
            "_view_count": null,
            "_view_module": "@jupyter-widgets/controls",
            "_view_module_version": "1.5.0",
            "_view_name": "HBoxView",
            "box_style": "",
            "children": [
              "IPY_MODEL_cb6618280f3d48f69e91d9530dbbcb37",
              "IPY_MODEL_fe6d32e5ef8342c59997e801ad056b1e",
              "IPY_MODEL_f4b9a22ec91e4f82a30414711a8430a2"
            ],
            "layout": "IPY_MODEL_f00615f93a504a95a35090b6f5d9cbaf"
          }
        },
        "cb6618280f3d48f69e91d9530dbbcb37": {
          "model_module": "@jupyter-widgets/controls",
          "model_name": "HTMLModel",
          "model_module_version": "1.5.0",
          "state": {
            "_dom_classes": [],
            "_model_module": "@jupyter-widgets/controls",
            "_model_module_version": "1.5.0",
            "_model_name": "HTMLModel",
            "_view_count": null,
            "_view_module": "@jupyter-widgets/controls",
            "_view_module_version": "1.5.0",
            "_view_name": "HTMLView",
            "description": "",
            "description_tooltip": null,
            "layout": "IPY_MODEL_4790ffd685d4446e907dfccb97758890",
            "placeholder": "​",
            "style": "IPY_MODEL_d7a7810562c848f8bd393e1a1fe4c0fa",
            "value": "Map: 100%"
          }
        },
        "fe6d32e5ef8342c59997e801ad056b1e": {
          "model_module": "@jupyter-widgets/controls",
          "model_name": "FloatProgressModel",
          "model_module_version": "1.5.0",
          "state": {
            "_dom_classes": [],
            "_model_module": "@jupyter-widgets/controls",
            "_model_module_version": "1.5.0",
            "_model_name": "FloatProgressModel",
            "_view_count": null,
            "_view_module": "@jupyter-widgets/controls",
            "_view_module_version": "1.5.0",
            "_view_name": "ProgressView",
            "bar_style": "success",
            "description": "",
            "description_tooltip": null,
            "layout": "IPY_MODEL_2dd43c0baa5d44bfa2661b425b2f7325",
            "max": 7379,
            "min": 0,
            "orientation": "horizontal",
            "style": "IPY_MODEL_051d5a4882ce4823a32d1fa79a74102a",
            "value": 7379
          }
        },
        "f4b9a22ec91e4f82a30414711a8430a2": {
          "model_module": "@jupyter-widgets/controls",
          "model_name": "HTMLModel",
          "model_module_version": "1.5.0",
          "state": {
            "_dom_classes": [],
            "_model_module": "@jupyter-widgets/controls",
            "_model_module_version": "1.5.0",
            "_model_name": "HTMLModel",
            "_view_count": null,
            "_view_module": "@jupyter-widgets/controls",
            "_view_module_version": "1.5.0",
            "_view_name": "HTMLView",
            "description": "",
            "description_tooltip": null,
            "layout": "IPY_MODEL_7de8357e93cb4d9eb028048c9b03cfa7",
            "placeholder": "​",
            "style": "IPY_MODEL_fc8b37a879974d6fb5d48fc8e6ff894d",
            "value": " 7379/7379 [00:01&lt;00:00, 4038.94 examples/s]"
          }
        },
        "f00615f93a504a95a35090b6f5d9cbaf": {
          "model_module": "@jupyter-widgets/base",
          "model_name": "LayoutModel",
          "model_module_version": "1.2.0",
          "state": {
            "_model_module": "@jupyter-widgets/base",
            "_model_module_version": "1.2.0",
            "_model_name": "LayoutModel",
            "_view_count": null,
            "_view_module": "@jupyter-widgets/base",
            "_view_module_version": "1.2.0",
            "_view_name": "LayoutView",
            "align_content": null,
            "align_items": null,
            "align_self": null,
            "border": null,
            "bottom": null,
            "display": null,
            "flex": null,
            "flex_flow": null,
            "grid_area": null,
            "grid_auto_columns": null,
            "grid_auto_flow": null,
            "grid_auto_rows": null,
            "grid_column": null,
            "grid_gap": null,
            "grid_row": null,
            "grid_template_areas": null,
            "grid_template_columns": null,
            "grid_template_rows": null,
            "height": null,
            "justify_content": null,
            "justify_items": null,
            "left": null,
            "margin": null,
            "max_height": null,
            "max_width": null,
            "min_height": null,
            "min_width": null,
            "object_fit": null,
            "object_position": null,
            "order": null,
            "overflow": null,
            "overflow_x": null,
            "overflow_y": null,
            "padding": null,
            "right": null,
            "top": null,
            "visibility": null,
            "width": null
          }
        },
        "4790ffd685d4446e907dfccb97758890": {
          "model_module": "@jupyter-widgets/base",
          "model_name": "LayoutModel",
          "model_module_version": "1.2.0",
          "state": {
            "_model_module": "@jupyter-widgets/base",
            "_model_module_version": "1.2.0",
            "_model_name": "LayoutModel",
            "_view_count": null,
            "_view_module": "@jupyter-widgets/base",
            "_view_module_version": "1.2.0",
            "_view_name": "LayoutView",
            "align_content": null,
            "align_items": null,
            "align_self": null,
            "border": null,
            "bottom": null,
            "display": null,
            "flex": null,
            "flex_flow": null,
            "grid_area": null,
            "grid_auto_columns": null,
            "grid_auto_flow": null,
            "grid_auto_rows": null,
            "grid_column": null,
            "grid_gap": null,
            "grid_row": null,
            "grid_template_areas": null,
            "grid_template_columns": null,
            "grid_template_rows": null,
            "height": null,
            "justify_content": null,
            "justify_items": null,
            "left": null,
            "margin": null,
            "max_height": null,
            "max_width": null,
            "min_height": null,
            "min_width": null,
            "object_fit": null,
            "object_position": null,
            "order": null,
            "overflow": null,
            "overflow_x": null,
            "overflow_y": null,
            "padding": null,
            "right": null,
            "top": null,
            "visibility": null,
            "width": null
          }
        },
        "d7a7810562c848f8bd393e1a1fe4c0fa": {
          "model_module": "@jupyter-widgets/controls",
          "model_name": "DescriptionStyleModel",
          "model_module_version": "1.5.0",
          "state": {
            "_model_module": "@jupyter-widgets/controls",
            "_model_module_version": "1.5.0",
            "_model_name": "DescriptionStyleModel",
            "_view_count": null,
            "_view_module": "@jupyter-widgets/base",
            "_view_module_version": "1.2.0",
            "_view_name": "StyleView",
            "description_width": ""
          }
        },
        "2dd43c0baa5d44bfa2661b425b2f7325": {
          "model_module": "@jupyter-widgets/base",
          "model_name": "LayoutModel",
          "model_module_version": "1.2.0",
          "state": {
            "_model_module": "@jupyter-widgets/base",
            "_model_module_version": "1.2.0",
            "_model_name": "LayoutModel",
            "_view_count": null,
            "_view_module": "@jupyter-widgets/base",
            "_view_module_version": "1.2.0",
            "_view_name": "LayoutView",
            "align_content": null,
            "align_items": null,
            "align_self": null,
            "border": null,
            "bottom": null,
            "display": null,
            "flex": null,
            "flex_flow": null,
            "grid_area": null,
            "grid_auto_columns": null,
            "grid_auto_flow": null,
            "grid_auto_rows": null,
            "grid_column": null,
            "grid_gap": null,
            "grid_row": null,
            "grid_template_areas": null,
            "grid_template_columns": null,
            "grid_template_rows": null,
            "height": null,
            "justify_content": null,
            "justify_items": null,
            "left": null,
            "margin": null,
            "max_height": null,
            "max_width": null,
            "min_height": null,
            "min_width": null,
            "object_fit": null,
            "object_position": null,
            "order": null,
            "overflow": null,
            "overflow_x": null,
            "overflow_y": null,
            "padding": null,
            "right": null,
            "top": null,
            "visibility": null,
            "width": null
          }
        },
        "051d5a4882ce4823a32d1fa79a74102a": {
          "model_module": "@jupyter-widgets/controls",
          "model_name": "ProgressStyleModel",
          "model_module_version": "1.5.0",
          "state": {
            "_model_module": "@jupyter-widgets/controls",
            "_model_module_version": "1.5.0",
            "_model_name": "ProgressStyleModel",
            "_view_count": null,
            "_view_module": "@jupyter-widgets/base",
            "_view_module_version": "1.2.0",
            "_view_name": "StyleView",
            "bar_color": null,
            "description_width": ""
          }
        },
        "7de8357e93cb4d9eb028048c9b03cfa7": {
          "model_module": "@jupyter-widgets/base",
          "model_name": "LayoutModel",
          "model_module_version": "1.2.0",
          "state": {
            "_model_module": "@jupyter-widgets/base",
            "_model_module_version": "1.2.0",
            "_model_name": "LayoutModel",
            "_view_count": null,
            "_view_module": "@jupyter-widgets/base",
            "_view_module_version": "1.2.0",
            "_view_name": "LayoutView",
            "align_content": null,
            "align_items": null,
            "align_self": null,
            "border": null,
            "bottom": null,
            "display": null,
            "flex": null,
            "flex_flow": null,
            "grid_area": null,
            "grid_auto_columns": null,
            "grid_auto_flow": null,
            "grid_auto_rows": null,
            "grid_column": null,
            "grid_gap": null,
            "grid_row": null,
            "grid_template_areas": null,
            "grid_template_columns": null,
            "grid_template_rows": null,
            "height": null,
            "justify_content": null,
            "justify_items": null,
            "left": null,
            "margin": null,
            "max_height": null,
            "max_width": null,
            "min_height": null,
            "min_width": null,
            "object_fit": null,
            "object_position": null,
            "order": null,
            "overflow": null,
            "overflow_x": null,
            "overflow_y": null,
            "padding": null,
            "right": null,
            "top": null,
            "visibility": null,
            "width": null
          }
        },
        "fc8b37a879974d6fb5d48fc8e6ff894d": {
          "model_module": "@jupyter-widgets/controls",
          "model_name": "DescriptionStyleModel",
          "model_module_version": "1.5.0",
          "state": {
            "_model_module": "@jupyter-widgets/controls",
            "_model_module_version": "1.5.0",
            "_model_name": "DescriptionStyleModel",
            "_view_count": null,
            "_view_module": "@jupyter-widgets/base",
            "_view_module_version": "1.2.0",
            "_view_name": "StyleView",
            "description_width": ""
          }
        }
      }
    }
  },
  "cells": [
    {
      "cell_type": "markdown",
      "metadata": {
        "id": "view-in-github",
        "colab_type": "text"
      },
      "source": [
        "<a href=\"https://colab.research.google.com/github/yoones-vaezi/GATech-CSE6040/blob/master/Untitled6.ipynb\" target=\"_parent\"><img src=\"https://colab.research.google.com/assets/colab-badge.svg\" alt=\"Open In Colab\"/></a>"
      ]
    },
    {
      "cell_type": "code",
      "execution_count": 1,
      "metadata": {
        "id": "29ffhDFk8XDv",
        "colab": {
          "base_uri": "https://localhost:8080/"
        },
        "outputId": "75f28608-eef4-4159-fbb0-b178a238391b"
      },
      "outputs": [
        {
          "output_type": "stream",
          "name": "stdout",
          "text": [
            "Requirement already satisfied: transformers in /usr/local/lib/python3.10/dist-packages (4.42.4)\n",
            "Requirement already satisfied: datasets in /usr/local/lib/python3.10/dist-packages (2.21.0)\n",
            "Requirement already satisfied: rouge_score in /usr/local/lib/python3.10/dist-packages (0.1.2)\n",
            "Requirement already satisfied: evaluate in /usr/local/lib/python3.10/dist-packages (0.4.2)\n",
            "Requirement already satisfied: filelock in /usr/local/lib/python3.10/dist-packages (from transformers) (3.15.4)\n",
            "Requirement already satisfied: huggingface-hub<1.0,>=0.23.2 in /usr/local/lib/python3.10/dist-packages (from transformers) (0.23.5)\n",
            "Requirement already satisfied: numpy<2.0,>=1.17 in /usr/local/lib/python3.10/dist-packages (from transformers) (1.26.4)\n",
            "Requirement already satisfied: packaging>=20.0 in /usr/local/lib/python3.10/dist-packages (from transformers) (24.1)\n",
            "Requirement already satisfied: pyyaml>=5.1 in /usr/local/lib/python3.10/dist-packages (from transformers) (6.0.2)\n",
            "Requirement already satisfied: regex!=2019.12.17 in /usr/local/lib/python3.10/dist-packages (from transformers) (2024.5.15)\n",
            "Requirement already satisfied: requests in /usr/local/lib/python3.10/dist-packages (from transformers) (2.32.3)\n",
            "Requirement already satisfied: safetensors>=0.4.1 in /usr/local/lib/python3.10/dist-packages (from transformers) (0.4.4)\n",
            "Requirement already satisfied: tokenizers<0.20,>=0.19 in /usr/local/lib/python3.10/dist-packages (from transformers) (0.19.1)\n",
            "Requirement already satisfied: tqdm>=4.27 in /usr/local/lib/python3.10/dist-packages (from transformers) (4.66.5)\n",
            "Requirement already satisfied: pyarrow>=15.0.0 in /usr/local/lib/python3.10/dist-packages (from datasets) (17.0.0)\n",
            "Requirement already satisfied: dill<0.3.9,>=0.3.0 in /usr/local/lib/python3.10/dist-packages (from datasets) (0.3.8)\n",
            "Requirement already satisfied: pandas in /usr/local/lib/python3.10/dist-packages (from datasets) (2.1.4)\n",
            "Requirement already satisfied: xxhash in /usr/local/lib/python3.10/dist-packages (from datasets) (3.4.1)\n",
            "Requirement already satisfied: multiprocess in /usr/local/lib/python3.10/dist-packages (from datasets) (0.70.16)\n",
            "Requirement already satisfied: fsspec<=2024.6.1,>=2023.1.0 in /usr/local/lib/python3.10/dist-packages (from fsspec[http]<=2024.6.1,>=2023.1.0->datasets) (2024.6.1)\n",
            "Requirement already satisfied: aiohttp in /usr/local/lib/python3.10/dist-packages (from datasets) (3.10.1)\n",
            "Requirement already satisfied: absl-py in /usr/local/lib/python3.10/dist-packages (from rouge_score) (1.4.0)\n",
            "Requirement already satisfied: nltk in /usr/local/lib/python3.10/dist-packages (from rouge_score) (3.8.1)\n",
            "Requirement already satisfied: six>=1.14.0 in /usr/local/lib/python3.10/dist-packages (from rouge_score) (1.16.0)\n",
            "Requirement already satisfied: aiohappyeyeballs>=2.3.0 in /usr/local/lib/python3.10/dist-packages (from aiohttp->datasets) (2.3.4)\n",
            "Requirement already satisfied: aiosignal>=1.1.2 in /usr/local/lib/python3.10/dist-packages (from aiohttp->datasets) (1.3.1)\n",
            "Requirement already satisfied: attrs>=17.3.0 in /usr/local/lib/python3.10/dist-packages (from aiohttp->datasets) (24.2.0)\n",
            "Requirement already satisfied: frozenlist>=1.1.1 in /usr/local/lib/python3.10/dist-packages (from aiohttp->datasets) (1.4.1)\n",
            "Requirement already satisfied: multidict<7.0,>=4.5 in /usr/local/lib/python3.10/dist-packages (from aiohttp->datasets) (6.0.5)\n",
            "Requirement already satisfied: yarl<2.0,>=1.0 in /usr/local/lib/python3.10/dist-packages (from aiohttp->datasets) (1.9.4)\n",
            "Requirement already satisfied: async-timeout<5.0,>=4.0 in /usr/local/lib/python3.10/dist-packages (from aiohttp->datasets) (4.0.3)\n",
            "Requirement already satisfied: typing-extensions>=3.7.4.3 in /usr/local/lib/python3.10/dist-packages (from huggingface-hub<1.0,>=0.23.2->transformers) (4.12.2)\n",
            "Requirement already satisfied: charset-normalizer<4,>=2 in /usr/local/lib/python3.10/dist-packages (from requests->transformers) (3.3.2)\n",
            "Requirement already satisfied: idna<4,>=2.5 in /usr/local/lib/python3.10/dist-packages (from requests->transformers) (3.7)\n",
            "Requirement already satisfied: urllib3<3,>=1.21.1 in /usr/local/lib/python3.10/dist-packages (from requests->transformers) (2.0.7)\n",
            "Requirement already satisfied: certifi>=2017.4.17 in /usr/local/lib/python3.10/dist-packages (from requests->transformers) (2024.7.4)\n",
            "Requirement already satisfied: click in /usr/local/lib/python3.10/dist-packages (from nltk->rouge_score) (8.1.7)\n",
            "Requirement already satisfied: joblib in /usr/local/lib/python3.10/dist-packages (from nltk->rouge_score) (1.4.2)\n",
            "Requirement already satisfied: python-dateutil>=2.8.2 in /usr/local/lib/python3.10/dist-packages (from pandas->datasets) (2.8.2)\n",
            "Requirement already satisfied: pytz>=2020.1 in /usr/local/lib/python3.10/dist-packages (from pandas->datasets) (2024.1)\n",
            "Requirement already satisfied: tzdata>=2022.1 in /usr/local/lib/python3.10/dist-packages (from pandas->datasets) (2024.1)\n"
          ]
        }
      ],
      "source": [
        "!pip install transformers datasets rouge_score evaluate"
      ]
    },
    {
      "cell_type": "code",
      "source": [
        "import os\n",
        "import re\n",
        "import string\n",
        "import torch\n",
        "import datasets\n",
        "from datasets import load_from_disk, DatasetDict\n",
        "from transformers import T5Tokenizer, T5ForConditionalGeneration, Trainer, TrainingArguments, DataCollatorForSeq2Seq,AutoModelForSeq2SeqLM,AutoTokenizer\n",
        "from torch.utils.data import Dataset\n",
        "from sklearn.metrics import accuracy_score, precision_recall_fscore_support\n",
        "from nltk.translate.bleu_score import sentence_bleu\n",
        "from rouge_score import rouge_scorer\n",
        "from evaluate import load\n",
        "import numpy as np\n",
        "from nltk.stem import PorterStemmer\n",
        "from scipy.spatial.distance import cosine\n",
        "import nltk\n",
        "import matplotlib.pyplot as plt\n",
        "import torch.nn.functional as F\n",
        "import copy\n",
        "from transformers import Seq2SeqTrainer, Seq2SeqTrainingArguments\n",
        "import evaluate"
      ],
      "metadata": {
        "id": "8Nhk9zhf-qNi"
      },
      "execution_count": 2,
      "outputs": []
    },
    {
      "cell_type": "code",
      "source": [
        "import shutil\n",
        "import pandas as pd\n",
        "\n",
        "from google.colab import files"
      ],
      "metadata": {
        "id": "aZKx9ep_p6QR"
      },
      "execution_count": 3,
      "outputs": []
    },
    {
      "cell_type": "code",
      "source": [
        "t5_model_name = 't5-small'\n",
        "data_set_name = 'hotpotqa_dataset'"
      ],
      "metadata": {
        "id": "RMJ3hY8ycHnF"
      },
      "execution_count": 4,
      "outputs": []
    },
    {
      "cell_type": "code",
      "source": [
        "# t5_model_name = 'google-t5/t5-base'\n",
        "max_length = 128"
      ],
      "metadata": {
        "id": "lDF0hwV3-uq5"
      },
      "execution_count": 5,
      "outputs": []
    },
    {
      "cell_type": "code",
      "source": [
        "#!unzip 'hotpotqa_dataset.zip'"
      ],
      "metadata": {
        "id": "tsz9W2v7_MJz"
      },
      "execution_count": 6,
      "outputs": []
    },
    {
      "cell_type": "code",
      "source": [
        "# Ensure necessary NLTK resources are downloaded\n",
        "nltk.download('punkt')\n",
        "nltk.download('wordnet')\n",
        "nltk.download('punkt_tab')\n",
        "meteor = load('meteor')\n",
        "rouge_ = evaluate.load(\"rouge\")\n",
        "bleu_ = evaluate.load(\"bleu\")\n",
        "meteor_ = evaluate.load(\"meteor\")\n",
        "perplexity_ = evaluate.load(\"perplexity\")"
      ],
      "metadata": {
        "colab": {
          "base_uri": "https://localhost:8080/"
        },
        "id": "uVUu2uzoAdDQ",
        "outputId": "da70eb4e-cf35-4be6-952b-7ca7a957b814"
      },
      "execution_count": 7,
      "outputs": [
        {
          "output_type": "stream",
          "name": "stderr",
          "text": [
            "[nltk_data] Downloading package punkt to /root/nltk_data...\n",
            "[nltk_data]   Package punkt is already up-to-date!\n",
            "[nltk_data] Downloading package wordnet to /root/nltk_data...\n",
            "[nltk_data]   Package wordnet is already up-to-date!\n",
            "[nltk_data] Downloading package punkt_tab to /root/nltk_data...\n",
            "[nltk_data]   Package punkt_tab is already up-to-date!\n",
            "[nltk_data] Downloading package wordnet to /root/nltk_data...\n",
            "[nltk_data]   Package wordnet is already up-to-date!\n",
            "[nltk_data] Downloading package punkt to /root/nltk_data...\n",
            "[nltk_data]   Package punkt is already up-to-date!\n",
            "[nltk_data] Downloading package omw-1.4 to /root/nltk_data...\n",
            "[nltk_data]   Package omw-1.4 is already up-to-date!\n",
            "[nltk_data] Downloading package wordnet to /root/nltk_data...\n",
            "[nltk_data]   Package wordnet is already up-to-date!\n",
            "[nltk_data] Downloading package punkt to /root/nltk_data...\n",
            "[nltk_data]   Package punkt is already up-to-date!\n",
            "[nltk_data] Downloading package omw-1.4 to /root/nltk_data...\n",
            "[nltk_data]   Package omw-1.4 is already up-to-date!\n"
          ]
        }
      ]
    },
    {
      "cell_type": "code",
      "source": [
        "# Initialize the stemmer for stemming words during text normalization\n",
        "stemmer = PorterStemmer()\n",
        "# Define a consistent max_length for tokenization\n",
        "# max_length = 128\n",
        "\n",
        "# Load the tokenizer and model\n",
        "# tokenizer = T5Tokenizer.from_pretrained(t5_model_name)\n",
        "tokenizer = AutoTokenizer.from_pretrained(t5_model_name)\n",
        "# model = T5ForConditionalGeneration.from_pretrained(t5_model_name)\n",
        "model = AutoModelForSeq2SeqLM.from_pretrained(t5_model_name)"
      ],
      "metadata": {
        "colab": {
          "base_uri": "https://localhost:8080/"
        },
        "id": "37PsRpzHAio8",
        "outputId": "1df7ea7a-9f88-4d54-d3cf-6b959e17d082"
      },
      "execution_count": 8,
      "outputs": [
        {
          "output_type": "stream",
          "name": "stderr",
          "text": [
            "/usr/local/lib/python3.10/dist-packages/huggingface_hub/utils/_token.py:89: UserWarning: \n",
            "The secret `HF_TOKEN` does not exist in your Colab secrets.\n",
            "To authenticate with the Hugging Face Hub, create a token in your settings tab (https://huggingface.co/settings/tokens), set it as secret in your Google Colab and restart your session.\n",
            "You will be able to reuse this secret in all of your notebooks.\n",
            "Please note that authentication is recommended but still optional to access public models or datasets.\n",
            "  warnings.warn(\n"
          ]
        }
      ]
    },
    {
      "cell_type": "code",
      "source": [
        "# 1. Define the custom Seq2SeqDataset class (if needed)\n",
        "class Seq2SeqDataset(Dataset):\n",
        "    def __init__(self, data, tokenizer, max_input_length=max_length, max_target_length=max_length):\n",
        "        self.data = data  # The dataset containing the text examples\n",
        "        self.tokenizer = tokenizer  # The tokenizer for converting text to tokens\n",
        "        self.max_input_length = max_input_length  # Max length for input sequences\n",
        "        self.max_target_length = max_target_length  # Max length for target sequences\n",
        "\n",
        "    def __len__(self):\n",
        "        return len(self.data)  # Returns the total number of examples in the dataset\n",
        "\n",
        "    def __getitem__(self, index):\n",
        "        # Fetch the original and rephrased questions for the given index\n",
        "        input_text = self.data['original_question'][index]\n",
        "        target_text = self.data['rephrased_question'][index]\n",
        "\n",
        "        # Tokenize the input and target texts\n",
        "        input_ids = self.tokenizer(input_text, padding='max_length', max_length=self.max_input_length, truncation=True, return_tensors='pt').input_ids\n",
        "        target_ids = self.tokenizer(target_text, padding='max_length', max_length=self.max_target_length, truncation=True, return_tensors='pt').input_ids\n",
        "\n",
        "        # Return a dictionary with input and target token IDs\n",
        "        return {'input_ids': input_ids.squeeze(), 'labels': target_ids.squeeze()}"
      ],
      "metadata": {
        "id": "-HcMpA81AlXB"
      },
      "execution_count": 9,
      "outputs": []
    },
    {
      "cell_type": "code",
      "source": [
        "def load_and_split_dataset(dataset_path, split_ratios=(0.8, 0.1, 0.1)):\n",
        "    # Load the dataset from the specified path\n",
        "    dataset = load_from_disk(dataset_path)\n",
        "\n",
        "    # Check if the dataset already has 'train', 'validation', and 'test' keys\n",
        "    if all(key in dataset.keys() for key in ['train', 'validation', 'test']):\n",
        "        print(\"Dataset already contains 'train', 'validation', and 'test' splits.\")\n",
        "        return dataset  # Return the existing splits\n",
        "\n",
        "    # If not, perform the splits manually\n",
        "    print(\"Splitting the dataset into 'train', 'validation', and 'test' sets.\")\n",
        "\n",
        "    # Split dataset into training and test sets first\n",
        "    split_dataset = dataset.train_test_split(test_size=split_ratios[2])\n",
        "\n",
        "    # Further split the training set into train and validation sets\n",
        "    temp_dataset = split_dataset['train'].train_test_split(test_size=split_ratios[1] / (split_ratios[0] + split_ratios[1]))\n",
        "\n",
        "    # Combine the splits into a final DatasetDict\n",
        "    final_splits = DatasetDict({\n",
        "        'train': temp_dataset['train'],\n",
        "        'validation': temp_dataset['test'],\n",
        "        'test': split_dataset['test']\n",
        "    })\n",
        "\n",
        "    # Return the split datasets\n",
        "    return final_splits"
      ],
      "metadata": {
        "id": "WX3VsZyaAqU3"
      },
      "execution_count": 10,
      "outputs": []
    },
    {
      "cell_type": "code",
      "source": [
        "# Ensure consistent tokenization settings across the script\n",
        "def tokenize_input(texts):\n",
        "    return tokenizer(texts, padding=True, truncation=True, max_length=max_length, return_tensors='pt')"
      ],
      "metadata": {
        "id": "G4Wx_afqAsw8"
      },
      "execution_count": 11,
      "outputs": []
    },
    {
      "cell_type": "code",
      "source": [
        "# def preprocess_data(tokenizer, dataset, max_input_length=128, max_target_length=128):\n",
        "#     # This function tokenizes the input and target sequences in the dataset\n",
        "#     def tokenize_function(examples):\n",
        "#         # Tokenize the original question\n",
        "#         model_inputs = tokenizer(\n",
        "#             examples[\"original_question\"],\n",
        "#             max_length=max_input_length,\n",
        "#             truncation=True,\n",
        "#             padding=\"max_length\"\n",
        "#         )\n",
        "#         # Tokenize the rephrased question and store it as labels\n",
        "#         labels = tokenizer(\n",
        "#             examples[\"rephrased_question\"],\n",
        "#             max_length=max_target_length,\n",
        "#             truncation=True,\n",
        "#             padding=\"max_length\"\n",
        "#         )\n",
        "#         # Replace padding token ids in labels with -100 to ignore them during loss calculation\n",
        "#         labels[\"input_ids\"] = [\n",
        "#             [(l if l != tokenizer.pad_token_id else -100) for l in label] for label in labels[\"input_ids\"]\n",
        "#         ]\n",
        "#         model_inputs[\"labels\"] = labels[\"input_ids\"]\n",
        "#         return model_inputs\n",
        "\n",
        "#     # Create a deep copy of the dataset to ensure the original remains unchanged\n",
        "#     tokenized_dataset = copy.deepcopy(dataset)\n",
        "\n",
        "#     # Apply tokenization function and remove columns that exist in each split\n",
        "#     for split in tokenized_dataset:\n",
        "#         # Get the columns that exist in the current split\n",
        "#         columns_to_remove = [col for col in ['original_question', 'rephrased_question', 'answer', '__index_level_0__'] if col in tokenized_dataset[split].column_names]\n",
        "\n",
        "#         # Apply tokenization and remove the existing columns\n",
        "#         tokenized_dataset[split] = tokenized_dataset[split].map(tokenize_function, batched=True, remove_columns=columns_to_remove)\n",
        "\n",
        "#     return tokenized_dataset"
      ],
      "metadata": {
        "id": "HjRkpOMTAwVA"
      },
      "execution_count": 12,
      "outputs": []
    },
    {
      "cell_type": "code",
      "source": [
        "def preprocess_data(tokenizer, dataset, max_input_length=128, max_target_length=128, prefix=\"rewrite: \"):\n",
        "    # This function tokenizes the input and target sequences in the dataset\n",
        "    def tokenize_function(examples):\n",
        "        # Prepend the prefix to the original question\n",
        "        input_text = [prefix + question for question in examples[\"original_question\"]]\n",
        "\n",
        "        # Tokenize the original question with the prefix\n",
        "        model_inputs = tokenizer(\n",
        "            input_text,\n",
        "            max_length=max_input_length,\n",
        "            truncation=True,\n",
        "            padding=\"max_length\"\n",
        "        )\n",
        "\n",
        "        # Tokenize the rephrased question and store it as labels\n",
        "        labels = tokenizer(\n",
        "            examples[\"rephrased_question\"],\n",
        "            max_length=max_target_length,\n",
        "            truncation=True,\n",
        "            padding=\"max_length\"\n",
        "        )\n",
        "\n",
        "        # Replace padding token ids in labels with -100 to ignore them during loss calculation\n",
        "        labels[\"input_ids\"] = [\n",
        "            [(l if l != tokenizer.pad_token_id else -100) for l in label] for label in labels[\"input_ids\"]\n",
        "        ]\n",
        "        model_inputs[\"labels\"] = labels[\"input_ids\"]\n",
        "        return model_inputs\n",
        "\n",
        "    # Create a deep copy of the dataset to ensure the original remains unchanged\n",
        "    tokenized_dataset = copy.deepcopy(dataset)\n",
        "\n",
        "    # Apply tokenization function and remove columns that exist in each split\n",
        "    for split in tokenized_dataset:\n",
        "        # Identify the columns that exist in the current split\n",
        "        columns_to_remove = [col for col in ['original_question', 'rephrased_question', 'answer', '__index_level_0__'] if col in tokenized_dataset[split].column_names]\n",
        "\n",
        "        # Apply tokenization and remove the existing columns\n",
        "        tokenized_dataset[split] = tokenized_dataset[split].map(tokenize_function, batched=True, remove_columns=columns_to_remove)\n",
        "\n",
        "    return tokenized_dataset"
      ],
      "metadata": {
        "id": "NzO54GdC3HUa"
      },
      "execution_count": 13,
      "outputs": []
    },
    {
      "cell_type": "code",
      "source": [
        "# Text normalization function\n",
        "def normalize_text(text):\n",
        "    # Convert text to lowercase\n",
        "    text = text.lower()\n",
        "\n",
        "    # Remove punctuation\n",
        "    text = text.translate(str.maketrans(\"\", \"\", string.punctuation))\n",
        "\n",
        "    # Remove extra whitespaces (e.g., multiple spaces) and trim leading/trailing spaces\n",
        "    text = re.sub(r'\\s+', ' ', text).strip()\n",
        "\n",
        "    # Apply stemming to reduce words to their root form\n",
        "    text = ' '.join([stemmer.stem(word) for word in text.split()])\n",
        "\n",
        "    # Return the normalized text\n",
        "    return text"
      ],
      "metadata": {
        "id": "PYyRHs2aAyQN"
      },
      "execution_count": 14,
      "outputs": []
    },
    {
      "cell_type": "code",
      "source": [
        "# Function to compute normalized edit distance\n",
        "def compute_normalized_edit_distance(pred, label):\n",
        "    # Calculate the raw Edit Distance\n",
        "    raw_edit_distance = nltk.edit_distance(pred, label)\n",
        "\n",
        "    # Normalize by the length of the longer string\n",
        "    normalized_edit_distance = raw_edit_distance / max(len(pred), len(label))\n",
        "\n",
        "    return normalized_edit_distance"
      ],
      "metadata": {
        "id": "2cABVpM-Az0b"
      },
      "execution_count": 15,
      "outputs": []
    },
    {
      "cell_type": "code",
      "source": [
        "# 4. Define compute_metrics function with proper handling of text-based and embedding-based metrics\n",
        "def compute_metrics(pred):\n",
        "    # labels_ids = pred.label_ids\n",
        "    # pred_ids = pred.predictions.argmax(-1)\n",
        "\n",
        "    pred_ids, labels_ids = pred\n",
        "    if isinstance(pred_ids, tuple):\n",
        "        pred_ids = pred_ids[0]\n",
        "\n",
        "    # Load the tokenizer to decode the prediction and label IDs back to text\n",
        "    # tokenizer = T5Tokenizer.from_pretrained(\"t5-base\")\n",
        "\n",
        "    # Decode the predictions and labels into strings\n",
        "    pred_str = tokenizer.batch_decode(pred_ids, skip_special_tokens=True)\n",
        "    labels = np.where(labels_ids != -100, labels_ids, tokenizer.pad_token_id)\n",
        "    labels_str = tokenizer.batch_decode(labels, skip_special_tokens=True)\n",
        "\n",
        "\n",
        "    # labels_str = tokenizer.batch_decode(labels_ids, skip_special_tokens=True)\n",
        "\n",
        "    # Normalize the decoded strings\n",
        "    pred_str_norm = [normalize_text(text) for text in pred_str]\n",
        "    labels_str_norm = [normalize_text(text) for text in labels_str]\n",
        "\n",
        "    rouge_scores = rouge_.compute(predictions=pred_str_norm, references=labels_str_norm, use_stemmer=True)\n",
        "    rouge_scores = {k: round(v, 3) for k, v in rouge_scores.items()}\n",
        "\n",
        "    # Compute BLEU score\n",
        "    bleu_score = bleu_.compute(predictions=pred_str_norm, references=labels_str_norm)\n",
        "\n",
        "    # Compute text-based metrics\n",
        "    # bleu_score = np.mean([sentence_bleu([label], pred) for label, pred in zip(labels_str_norm, pred_str_norm)])\n",
        "\n",
        "    # rouge_scorer_obj = rouge_scorer.RougeScorer(['rouge1', 'rougeL'], use_stemmer=True)\n",
        "    # rouge_scores = [rouge_scorer_obj.score(label, pred) for label, pred in zip(labels_str_norm, pred_str_norm)]\n",
        "    # avg_rouge = {metric: np.mean([score[metric].fmeasure for score in rouge_scores]) for metric in rouge_scores[0].keys()}\n",
        "\n",
        "    # meteor_scores = meteor_.compute(predictions=pred_str_norm, references=labels_str_norm)\n",
        "\n",
        "    # meteor_scores = meteor.compute(predictions=pred_str_norm, references=labels_str_norm)\n",
        "\n",
        "    # edit_distance = np.mean([nltk.edit_distance(pred, label) for pred, label in zip(pred_str_norm, labels_str_norm)])\n",
        "\n",
        "    # Normalized Edit Distance\n",
        "    # normalized_edit_distance = np.mean([compute_normalized_edit_distance(pred, label) for pred, label in zip(pred_str_norm, labels_str_norm)])\n",
        "\n",
        "    # Compute embedding-based metrics\n",
        "    # Tokenize for embedding-based metrics\n",
        "    # pred_embeddings = tokenize_input(pred_str)['input_ids']\n",
        "    # labels_embeddings = tokenize_input(labels_str)['input_ids']\n",
        "\n",
        "    # Get embeddings for predicted and reference strings using consistent tokenization\n",
        "    # pred_embeddings = tokenizer(pred_str, padding=True, truncation=True, max_length=max_length, return_tensors='pt')['input_ids']\n",
        "    # labels_embeddings = tokenizer(labels_str, padding=True, truncation=True, max_length=max_length, return_tensors='pt')['input_ids']\n",
        "\n",
        "    # Move embeddings to GPU if available\n",
        "    # if torch.cuda.is_available():\n",
        "    #     pred_embeddings = pred_embeddings.cuda()\n",
        "    #     labels_embeddings = labels_embeddings.cuda()\n",
        "\n",
        "    # Cosine similarity between embeddings\n",
        "    # cosine_sim_scores = [1 - cosine(pred_embedding.cpu(), label_embedding.cpu()) for pred_embedding, label_embedding in zip(pred_embeddings, labels_embeddings)]\n",
        "    # avg_cosine_similarity = np.mean(cosine_sim_scores)\n",
        "\n",
        "    # Compute cosine similarity directly on the GPU using PyTorch\n",
        "    # print(pred_embeddings.shape)  # Should be [batch_size, sequence_length, embedding_dim]\n",
        "    # print(labels_embeddings.shape)  # Should match pred_embeddings.shape\n",
        "    # cosine_sim_scores = F.cosine_similarity(pred_embeddings.float(), labels_embeddings.float(), dim=-1)\n",
        "    # avg_cosine_similarity = torch.mean(cosine_sim_scores).item()\n",
        "\n",
        "    # Perplexity (logits-based, not embedding-based)\n",
        "    # perplexity = torch.exp(torch.mean(pred.predictions))\n",
        "    # perplexity = perplexity_.compute(predictions=pred_ids)\n",
        "\n",
        "    # prediction_lens = [np.count_nonzero(pred != tokenizer.pad_token_id) for pred in pred_ids]\n",
        "\n",
        "    # Return the computed metrics as a dictionary\n",
        "    return {\n",
        "        # 'cosine_similarity': avg_cosine_similarity,\n",
        "        \"bleu\": bleu_score['bleu'],\n",
        "        # 'bleu': bleu_score,\n",
        "        # 'rouge1': avg_rouge['rouge1'],\n",
        "        # 'rougeL': avg_rouge['rougeL'],\n",
        "        # 'meteor': meteor_scores['meteor'],\n",
        "        # 'perplexity': perplexity.item(),\n",
        "        # 'edit_distance': edit_distance,\n",
        "        # 'normalized_edit_distance': normalized_edit_distance,\n",
        "        # 'gen_len':np.mean(prediction_lens),\n",
        "        # 'perplexity': perplexity['perplexity']\n",
        "        **rouge_scores\n",
        "    }"
      ],
      "metadata": {
        "id": "mTCdpufGA1c4"
      },
      "execution_count": 16,
      "outputs": []
    },
    {
      "cell_type": "code",
      "source": [
        "# 5. Set Up the Model and Training Arguments\n",
        "def setup_model_and_args(model_name=\"t5-small\", output_dir=\"./results\", **kwargs):\n",
        "    # Load the T5 model and tokenizer\n",
        "    # model = T5ForConditionalGeneration.from_pretrained(model_name)\n",
        "    # tokenizer = T5Tokenizer.from_pretrained(model_name)\n",
        "\n",
        "    model = AutoModelForSeq2SeqLM.from_pretrained(model_name)\n",
        "    tokenizer = AutoTokenizer.from_pretrained(model_name)\n",
        "\n",
        "    # Move model to GPU if available\n",
        "    # if torch.cuda.is_available():\n",
        "    #     model.cuda()\n",
        "    # Default training arguments in a dictionary\n",
        "    training_args_dict = {\n",
        "        \"output_dir\":output_dir,  # Output directory for model checkpoints\n",
        "        \"eval_strategy\":'steps',  # Evaluate model at the end of each epoch\n",
        "        \"save_strategy\":'steps',  # Save the model every few steps\n",
        "        \"learning_rate\":5e-5,  # Learning rate for optimizer\n",
        "        \"warmup_steps\":300,\n",
        "        \"per_device_train_batch_size\":16,  # Batch size for training\n",
        "        \"per_device_eval_batch_size\":16,  # Batch size for evaluation\n",
        "        \"weight_decay\":0.01,  # Weight decay to avoid overfitting\n",
        "        \"num_train_epochs\":1,  # Number of training epochs\n",
        "        \"fp16\":False,#torch.cuda.is_available(),  # Enable mixed precision training if a GPU is available\n",
        "        \"logging_dir\":'./logs',  # Directory for storing logs\n",
        "        \"logging_steps\":50,  # Log training progress every 10 steps\n",
        "        \"eval_steps\":50,  # Evaluate the model every 500 steps\n",
        "        # \"save_steps\":100,  # Save model checkpoint every 500 steps\n",
        "        \"save_total_limit\":5,\n",
        "        \"load_best_model_at_end\":True,  # Load the best model found during training\n",
        "        # \"metric_for_best_model\": \"cosine_similarity\",  # Example: Monitor BLEU score to save the best model\n",
        "        # \"greater_is_better\": True,  # Set to False if a lower value is better (e.g., for loss)\n",
        "        \"metric_for_best_model\": \"eval_loss\",\n",
        "        \"greater_is_better\": False,\n",
        "        \"predict_with_generate\":True\n",
        "    }\n",
        "\n",
        "    # Update the dictionary with any provided kwargs\n",
        "    training_args_dict.update(kwargs)\n",
        "\n",
        "    # Pass the updated dictionary to TrainingArguments\n",
        "    # training_args = TrainingArguments(**training_args_dict)\n",
        "    training_args = Seq2SeqTrainingArguments(**training_args_dict)\n",
        "\n",
        "    # Return the model, tokenizer, and training arguments\n",
        "    return model, tokenizer, training_args"
      ],
      "metadata": {
        "id": "xWTrczdoBXnc"
      },
      "execution_count": 17,
      "outputs": []
    },
    {
      "cell_type": "code",
      "source": [
        "# 6. Initialize Trainer and Data Collator\n",
        "def initialize_trainer(model, tokenizer, tokenized_dataset, training_args,compute_metrics=None):\n",
        "    # Define the data collator to dynamically pad the sequences during batching\n",
        "    # we want to ignore tokenizer pad token in the loss\n",
        "    label_pad_token_id = -100\n",
        "    # Data collator\n",
        "    data_collator = DataCollatorForSeq2Seq(\n",
        "        tokenizer,\n",
        "        model=model,\n",
        "        label_pad_token_id=label_pad_token_id,\n",
        "        # pad_to_multiple_of=8\n",
        "        )\n",
        "\n",
        "    # data_collator = DataCollatorForSeq2Seq(tokenizer, model=model)\n",
        "\n",
        "    # Initialize the Trainer class with the model, arguments, datasets, tokenizer, and data collator\n",
        "    trainer = Seq2SeqTrainer(\n",
        "        model=model,\n",
        "        args=training_args,\n",
        "        train_dataset=tokenized_dataset[\"train\"],  # Training dataset\n",
        "        eval_dataset=tokenized_dataset[\"validation\"],  # Validation dataset\n",
        "        tokenizer=tokenizer,  # Tokenizer to decode the predictions\n",
        "        data_collator=data_collator,  # Data collator for padding\n",
        "        compute_metrics=compute_metrics  # Function to compute evaluation metrics\n",
        "    )\n",
        "\n",
        "    # Return the initialized Trainer\n",
        "    return trainer"
      ],
      "metadata": {
        "id": "xMfje5Z1Bgvg"
      },
      "execution_count": 18,
      "outputs": []
    },
    {
      "cell_type": "code",
      "source": [
        "# 7. Train the Model and Evaluate\n",
        "def train_and_evaluate_model(trainer):\n",
        "    trainer.train()\n",
        "    eval_results = trainer.evaluate()\n",
        "    return eval_results\n",
        "\n",
        "# 8. Save the Model and Tokenizer\n",
        "def save_model_and_tokenizer(trainer, tokenizer, output_dir=\"./fine_tuned_t5\"):\n",
        "    trainer.save_model(output_dir)\n",
        "    tokenizer.save_pretrained(output_dir)"
      ],
      "metadata": {
        "id": "UHlDZCqYBmvO"
      },
      "execution_count": 19,
      "outputs": []
    },
    {
      "cell_type": "code",
      "source": [
        "# Main function to orchestrate the fine-tuning process\n",
        "def fine_tune_t5(dataset_path, output_dir=\"./fine_tuned_t5\",model_name='t5_small',split_ratios=(0.8, 0.1, 0.1),compute_metrics=None, **training_args):\n",
        "    dataset_splits = load_and_split_dataset(dataset_path, split_ratios)\n",
        "    model, tokenizer, training_args = setup_model_and_args(\n",
        "        model_name=model_name,\n",
        "        output_dir=output_dir,\n",
        "        **training_args\n",
        "    )\n",
        "    tokenized_dataset = preprocess_data(tokenizer, dataset_splits)\n",
        "    trainer = initialize_trainer(model, tokenizer, tokenized_dataset, training_args,compute_metrics)\n",
        "\n",
        "    # Train and Evaluate\n",
        "    eval_results = train_and_evaluate_model(trainer)\n",
        "    print(f\"Evaluation results: {eval_results}\")\n",
        "\n",
        "    # Save Model and Tokenizer\n",
        "    save_model_and_tokenizer(trainer, tokenizer, output_dir)\n",
        "\n",
        "    # Plot losses\n",
        "    # plot_train_validation_losses(trainer)\n",
        "\n",
        "    # Plot evaluation metrics\n",
        "    # plot_evaluation_metrics(trainer)\n",
        "\n",
        "    return trainer, eval_results"
      ],
      "metadata": {
        "id": "ItbTjsCRBoVd"
      },
      "execution_count": 20,
      "outputs": []
    },
    {
      "cell_type": "code",
      "source": [
        "trainer, results = fine_tune_t5(\n",
        "        data_set_name,\n",
        "        output_dir=f\"./fine_tuned_{t5_model_name}_{data_set_name}_seqTrainer\",\n",
        "        model_name = t5_model_name,\n",
        "        split_ratios=(0.8, 0.1, 0.1),\n",
        "        num_train_epochs=5,\n",
        "        use_cpu = False,\n",
        "        learning_rate=3e-5,  # Override the default learning rate\n",
        "        per_device_train_batch_size=64,\n",
        "        per_device_eval_batch_size=64,\n",
        "        compute_metrics=None,\n",
        "        logging_steps=200,  # Log training progress every 10 steps\n",
        "        eval_steps=200,  # Evaluate the model every 500 steps\n",
        "        save_steps=2000,\n",
        "        # generation_max_length=128,  # Setting the max length for generation\n",
        "        # generation_num_beams=4      # Optional: beam search setting for generation\n",
        "    )"
      ],
      "metadata": {
        "colab": {
          "base_uri": "https://localhost:8080/",
          "height": 1000,
          "referenced_widgets": [
            "633ba0ca903a4206b79dc498c05f3bdf",
            "cb6618280f3d48f69e91d9530dbbcb37",
            "fe6d32e5ef8342c59997e801ad056b1e",
            "f4b9a22ec91e4f82a30414711a8430a2",
            "f00615f93a504a95a35090b6f5d9cbaf",
            "4790ffd685d4446e907dfccb97758890",
            "d7a7810562c848f8bd393e1a1fe4c0fa",
            "2dd43c0baa5d44bfa2661b425b2f7325",
            "051d5a4882ce4823a32d1fa79a74102a",
            "7de8357e93cb4d9eb028048c9b03cfa7",
            "fc8b37a879974d6fb5d48fc8e6ff894d"
          ]
        },
        "id": "ODQZaTVRBsqM",
        "outputId": "a145f128-06d3-4d96-b827-98120cfc26e9"
      },
      "execution_count": null,
      "outputs": [
        {
          "output_type": "stream",
          "name": "stdout",
          "text": [
            "Dataset already contains 'train', 'validation', and 'test' splits.\n"
          ]
        },
        {
          "output_type": "display_data",
          "data": {
            "text/plain": [
              "Map:   0%|          | 0/7379 [00:00<?, ? examples/s]"
            ],
            "application/vnd.jupyter.widget-view+json": {
              "version_major": 2,
              "version_minor": 0,
              "model_id": "633ba0ca903a4206b79dc498c05f3bdf"
            }
          },
          "metadata": {}
        },
        {
          "output_type": "display_data",
          "data": {
            "text/plain": [
              "<IPython.core.display.HTML object>"
            ],
            "text/html": [
              "\n",
              "    <div>\n",
              "      \n",
              "      <progress value='6973' max='7040' style='width:300px; height:20px; vertical-align: middle;'></progress>\n",
              "      [6973/7040 1:10:55 < 00:40, 1.64 it/s, Epoch 4.95/5]\n",
              "    </div>\n",
              "    <table border=\"1\" class=\"dataframe\">\n",
              "  <thead>\n",
              " <tr style=\"text-align: left;\">\n",
              "      <th>Step</th>\n",
              "      <th>Training Loss</th>\n",
              "      <th>Validation Loss</th>\n",
              "    </tr>\n",
              "  </thead>\n",
              "  <tbody>\n",
              "    <tr>\n",
              "      <td>200</td>\n",
              "      <td>2.026100</td>\n",
              "      <td>1.648451</td>\n",
              "    </tr>\n",
              "    <tr>\n",
              "      <td>400</td>\n",
              "      <td>1.504600</td>\n",
              "      <td>1.457105</td>\n",
              "    </tr>\n",
              "    <tr>\n",
              "      <td>600</td>\n",
              "      <td>1.398700</td>\n",
              "      <td>1.390464</td>\n",
              "    </tr>\n",
              "    <tr>\n",
              "      <td>800</td>\n",
              "      <td>1.324800</td>\n",
              "      <td>1.352025</td>\n",
              "    </tr>\n",
              "    <tr>\n",
              "      <td>1000</td>\n",
              "      <td>1.296600</td>\n",
              "      <td>1.319344</td>\n",
              "    </tr>\n",
              "    <tr>\n",
              "      <td>1200</td>\n",
              "      <td>1.267900</td>\n",
              "      <td>1.300412</td>\n",
              "    </tr>\n",
              "    <tr>\n",
              "      <td>1400</td>\n",
              "      <td>1.252000</td>\n",
              "      <td>1.279549</td>\n",
              "    </tr>\n",
              "    <tr>\n",
              "      <td>1600</td>\n",
              "      <td>1.228300</td>\n",
              "      <td>1.268088</td>\n",
              "    </tr>\n",
              "    <tr>\n",
              "      <td>1800</td>\n",
              "      <td>1.217800</td>\n",
              "      <td>1.256606</td>\n",
              "    </tr>\n",
              "    <tr>\n",
              "      <td>2000</td>\n",
              "      <td>1.210600</td>\n",
              "      <td>1.244249</td>\n",
              "    </tr>\n",
              "    <tr>\n",
              "      <td>2200</td>\n",
              "      <td>1.190300</td>\n",
              "      <td>1.235122</td>\n",
              "    </tr>\n",
              "    <tr>\n",
              "      <td>2400</td>\n",
              "      <td>1.181700</td>\n",
              "      <td>1.225836</td>\n",
              "    </tr>\n",
              "    <tr>\n",
              "      <td>2600</td>\n",
              "      <td>1.178800</td>\n",
              "      <td>1.217885</td>\n",
              "    </tr>\n",
              "    <tr>\n",
              "      <td>2800</td>\n",
              "      <td>1.169700</td>\n",
              "      <td>1.211556</td>\n",
              "    </tr>\n",
              "    <tr>\n",
              "      <td>3000</td>\n",
              "      <td>1.155900</td>\n",
              "      <td>1.205604</td>\n",
              "    </tr>\n",
              "    <tr>\n",
              "      <td>3200</td>\n",
              "      <td>1.149900</td>\n",
              "      <td>1.200332</td>\n",
              "    </tr>\n",
              "    <tr>\n",
              "      <td>3400</td>\n",
              "      <td>1.154100</td>\n",
              "      <td>1.196766</td>\n",
              "    </tr>\n",
              "    <tr>\n",
              "      <td>3600</td>\n",
              "      <td>1.143500</td>\n",
              "      <td>1.191759</td>\n",
              "    </tr>\n",
              "    <tr>\n",
              "      <td>3800</td>\n",
              "      <td>1.145200</td>\n",
              "      <td>1.188053</td>\n",
              "    </tr>\n",
              "    <tr>\n",
              "      <td>4000</td>\n",
              "      <td>1.134000</td>\n",
              "      <td>1.183558</td>\n",
              "    </tr>\n",
              "    <tr>\n",
              "      <td>4200</td>\n",
              "      <td>1.125200</td>\n",
              "      <td>1.182481</td>\n",
              "    </tr>\n",
              "    <tr>\n",
              "      <td>4400</td>\n",
              "      <td>1.129600</td>\n",
              "      <td>1.179604</td>\n",
              "    </tr>\n",
              "    <tr>\n",
              "      <td>4600</td>\n",
              "      <td>1.118700</td>\n",
              "      <td>1.176599</td>\n",
              "    </tr>\n",
              "    <tr>\n",
              "      <td>4800</td>\n",
              "      <td>1.113600</td>\n",
              "      <td>1.173864</td>\n",
              "    </tr>\n",
              "    <tr>\n",
              "      <td>5000</td>\n",
              "      <td>1.120500</td>\n",
              "      <td>1.170588</td>\n",
              "    </tr>\n",
              "    <tr>\n",
              "      <td>5200</td>\n",
              "      <td>1.111700</td>\n",
              "      <td>1.169852</td>\n",
              "    </tr>\n",
              "    <tr>\n",
              "      <td>5400</td>\n",
              "      <td>1.125000</td>\n",
              "      <td>1.167261</td>\n",
              "    </tr>\n",
              "    <tr>\n",
              "      <td>5600</td>\n",
              "      <td>1.103200</td>\n",
              "      <td>1.167014</td>\n",
              "    </tr>\n",
              "    <tr>\n",
              "      <td>5800</td>\n",
              "      <td>1.103400</td>\n",
              "      <td>1.166183</td>\n",
              "    </tr>\n",
              "    <tr>\n",
              "      <td>6000</td>\n",
              "      <td>1.107700</td>\n",
              "      <td>1.165857</td>\n",
              "    </tr>\n",
              "    <tr>\n",
              "      <td>6200</td>\n",
              "      <td>1.114600</td>\n",
              "      <td>1.163906</td>\n",
              "    </tr>\n",
              "    <tr>\n",
              "      <td>6400</td>\n",
              "      <td>1.113700</td>\n",
              "      <td>1.163092</td>\n",
              "    </tr>\n",
              "    <tr>\n",
              "      <td>6600</td>\n",
              "      <td>1.105300</td>\n",
              "      <td>1.162099</td>\n",
              "    </tr>\n",
              "    <tr>\n",
              "      <td>6800</td>\n",
              "      <td>1.106600</td>\n",
              "      <td>1.162345</td>\n",
              "    </tr>\n",
              "  </tbody>\n",
              "</table><p>"
            ]
          },
          "metadata": {}
        }
      ]
    },
    {
      "cell_type": "code",
      "source": [
        "saved_model_folder_final = f\"./fine_tuned_{t5_model_name.replace('/','-')}_combined_final\"\n",
        "trainer.save_model(saved_model_folder_final)\n",
        "tokenizer.save_pretrained(saved_model_folder_final)\n"
      ],
      "metadata": {
        "id": "uqHkSpS0fERp"
      },
      "execution_count": null,
      "outputs": []
    },
    {
      "cell_type": "code",
      "source": [
        "trainer.save_state()"
      ],
      "metadata": {
        "id": "-W1Jc_LHp4-A"
      },
      "execution_count": null,
      "outputs": []
    },
    {
      "cell_type": "markdown",
      "source": [],
      "metadata": {
        "id": "548sheWnp14b"
      }
    },
    {
      "cell_type": "code",
      "source": [
        "# import shutil\n",
        "# shutil.rmtree('/content/fine_tuned_t5-base_combined_dataset_seqTrainer')"
      ],
      "metadata": {
        "id": "58Rd2VVplL6V"
      },
      "execution_count": null,
      "outputs": []
    },
    {
      "cell_type": "code",
      "source": [],
      "metadata": {
        "id": "2ea0DXqZlJnI"
      },
      "execution_count": null,
      "outputs": []
    },
    {
      "cell_type": "code",
      "source": [
        "\n",
        "# saved_model_folder_final = f\"/content/fine_tuned_google-t5-t5-base_combined/checkpoint-35000\"\n",
        "model_folder_name = saved_model_folder_final\n",
        "zip_name = f\"{data_set_name}_{t5_model_name}\"+'.zip'\n",
        "shutil.make_archive(f\"{data_set_name}_{t5_model_name}\",'zip',model_folder_name)\n",
        "files.download(zip_name)"
      ],
      "metadata": {
        "id": "C9mOyuMGRma3"
      },
      "execution_count": null,
      "outputs": []
    },
    {
      "cell_type": "code",
      "source": [
        "def plot_train_validation_losses(trainer, save_path=None):\n",
        "    train_loss = trainer.state.log_history\n",
        "    steps = range(len(train_loss))\n",
        "    train_losses = [x['loss'] for x in train_loss if 'loss' in x]\n",
        "    eval_losses = [x['eval_loss'] for x in train_loss if 'eval_loss' in x]\n",
        "\n",
        "    plt.figure(figsize=(12, 6))\n",
        "\n",
        "    # Plotting both training and validation losses on the same plot\n",
        "    plt.plot(steps[:len(train_losses)], train_losses, label='Training Loss', color='blue')\n",
        "    plt.plot(steps[:len(eval_losses)], eval_losses, label='Validation Loss', color='orange')\n",
        "\n",
        "    plt.xlabel('Steps')\n",
        "    plt.ylabel('Loss')\n",
        "    plt.title('Training and Validation Loss')\n",
        "    plt.legend()\n",
        "\n",
        "    # Save the plot if save_path is provided\n",
        "    if save_path:\n",
        "        plt.savefig(save_path)\n",
        "\n",
        "    # Show the plot\n",
        "    plt.show()"
      ],
      "metadata": {
        "id": "wcweosazrO9n"
      },
      "execution_count": null,
      "outputs": []
    },
    {
      "cell_type": "code",
      "source": [
        "fig_name = f\"./{data_set_name}_{t5_model_name}.png\"\n",
        "plot_train_validation_losses(trainer, save_path=fig_name)\n",
        "files.download(fig_name)"
      ],
      "metadata": {
        "id": "PLGbVxs3rQkz"
      },
      "execution_count": null,
      "outputs": []
    },
    {
      "cell_type": "code",
      "source": [
        "def create_loss_dataframe(trainer):\n",
        "    # Initialize lists to store the steps and corresponding losses\n",
        "    steps = []\n",
        "    train_losses = []\n",
        "    eval_losses = []\n",
        "\n",
        "    # Loop through the log history to extract the relevant data\n",
        "    for log in trainer.state.log_history:\n",
        "        if 'loss' in log:\n",
        "            steps.append(log['step'])\n",
        "            train_losses.append(log['loss'])\n",
        "            eval_losses.append(None)  # No evaluation loss for this step\n",
        "        elif 'eval_loss' in log:\n",
        "            steps.append(log['step'])\n",
        "            train_losses.append(None)  # No training loss for this step\n",
        "            eval_losses.append(log['eval_loss'])\n",
        "\n",
        "    # Create a DataFrame from the collected data\n",
        "    df = pd.DataFrame({\n",
        "        'step': steps,\n",
        "        'train_loss': train_losses,\n",
        "        'eval_loss': eval_losses\n",
        "    })\n",
        "\n",
        "    # Fill forward the train_loss to align with corresponding eval_loss\n",
        "    df['train_loss'] = df['train_loss'].fillna(method='ffill')\n",
        "\n",
        "    return df\n",
        "\n",
        "# Example usage:\n",
        "df_losses = create_loss_dataframe(trainer)\n",
        "print(df_losses.dropna())"
      ],
      "metadata": {
        "id": "rnkKoaEMTPAW"
      },
      "execution_count": null,
      "outputs": []
    },
    {
      "cell_type": "code",
      "source": [
        "loss_df_file_name = f\"{data_set_name}_{t5_model_name}.csv\"\n",
        "df_losses.dropna().to_csv(loss_df_file_name,index=False)\n",
        "files.download(loss_df_file_name)"
      ],
      "metadata": {
        "id": "eOm0hZxTTR7M"
      },
      "execution_count": null,
      "outputs": []
    },
    {
      "cell_type": "code",
      "source": [
        "# from google.colab import runtime\n",
        "\n",
        "# runtime.unassign()"
      ],
      "metadata": {
        "id": "KYSotpZtSd65"
      },
      "execution_count": null,
      "outputs": []
    }
  ]
}